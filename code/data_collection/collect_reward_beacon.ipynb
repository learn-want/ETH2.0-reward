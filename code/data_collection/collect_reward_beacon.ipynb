{
 "cells": [
  {
   "cell_type": "code",
   "execution_count": null,
   "metadata": {},
   "outputs": [],
   "source": [
    "from tqdm import tqdm\n",
    "import requests\n",
    "from web3.beacon import Beacon\n",
    "import requests\n",
    "Beacon_chain_url = \"http://localhost:1234\" #please change this to your beacon chain url\n",
    "beacon = Beacon(Beacon_chain_url)\n"
   ]
  },
  {
   "cell_type": "markdown",
   "metadata": {},
   "source": [
    "# Proposer reward"
   ]
  },
  {
   "cell_type": "code",
   "execution_count": null,
   "metadata": {},
   "outputs": [],
   "source": [
    "def get_block_rewards(block_id: int, beacon_url: str = Beacon_chain_url):\n",
    "    \"\"\"Fetch block proposer rewards from the beacon chain\n",
    "    \n",
    "    Args:\n",
    "        block_id: The block number to query rewards for\n",
    "        beacon_url: Beacon chain node URL\n",
    "        \n",
    "    Returns:\n",
    "        dict: Reward information if successful\n",
    "        None: If the request fails\n",
    "    \"\"\"\n",
    "    url = f\"{beacon_url}/eth/v1/beacon/rewards/blocks/{block_id}\"\n",
    "    \n",
    "    try:\n",
    "        response = requests.get(url)\n",
    "        response.raise_for_status()  # Raises exception for non-200 status codes\n",
    "        return response.json()  # Return parsed JSON data directly\n",
    "    except requests.exceptions.RequestException as e:\n",
    "        print(f\"Failed to fetch rewards for block {block_id}: {e}\")\n",
    "        return None\n",
    "\n",
    "# Usage example\n",
    "rewards = get_block_rewards(5)\n",
    "if rewards:\n",
    "    print(rewards)"
   ]
  },
  {
   "cell_type": "markdown",
   "metadata": {},
   "source": [
    "# Attestation rewards"
   ]
  },
  {
   "cell_type": "code",
   "execution_count": null,
   "metadata": {},
   "outputs": [],
   "source": [
    "def get_attestation_rewards(epoch: int, beacon_url: str = Beacon_chain_url):\n",
    "    \"\"\"Fetch attestation rewards from the beacon chain for a given epoch\n",
    "    \n",
    "    Args:\n",
    "        epoch: The epoch number to query rewards for\n",
    "        beacon_url: Beacon chain node URL, defaults to global config\n",
    "        \n",
    "    Returns:\n",
    "        dict: Attestation reward information if successful\n",
    "        None: If the request fails\n",
    "    \"\"\"\n",
    "    url = f\"{beacon_url}/eth/v1/beacon/rewards/attestations/{epoch}\"\n",
    "    headers = {\"Content-Type\": \"application/json\"}\n",
    "    \n",
    "    try:\n",
    "        response = requests.post(url, headers=headers)\n",
    "        response.raise_for_status()\n",
    "        return response.json()\n",
    "    except requests.exceptions.RequestException as e:\n",
    "        print(f\"Failed to fetch attestation rewards for epoch {epoch}: {e}\")\n",
    "        return None\n",
    "\n",
    "# Usage example\n",
    "attestation_rewards = get_attestation_rewards(1)\n",
    "if attestation_rewards:\n",
    "    print(attestation_rewards)"
   ]
  },
  {
   "cell_type": "markdown",
   "metadata": {},
   "source": [
    "# Sync committee rewards"
   ]
  },
  {
   "cell_type": "code",
   "execution_count": null,
   "metadata": {},
   "outputs": [],
   "source": [
    "def get_sync_committee_rewards(slot: int, beacon_url: str = Beacon_chain_url):\n",
    "    \"\"\"Fetch sync committee rewards from the beacon chain for a given slot\n",
    "    \n",
    "    Args:\n",
    "        slot: The slot number to query rewards for\n",
    "        beacon_url: Beacon chain node URL, defaults to global config\n",
    "        \n",
    "    Returns:\n",
    "        dict: Sync committee reward information if successful\n",
    "        None: If the request fails\n",
    "    \"\"\"\n",
    "    url = f\"{beacon_url}/eth/v1/beacon/rewards/sync_committee/{slot}\"\n",
    "    headers = {\"Content-Type\": \"application/json\"}\n",
    "    \n",
    "    try:\n",
    "        response = requests.post(url, headers=headers)\n",
    "        response.raise_for_status()\n",
    "        return response.json()\n",
    "    except requests.exceptions.RequestException as e:\n",
    "        print(f\"Failed to fetch sync committee rewards for slot {slot}: {e}\")\n",
    "        return None\n",
    "\n",
    "# Usage example\n",
    "sync_rewards = get_sync_committee_rewards(1)\n",
    "if sync_rewards:\n",
    "    print(sync_rewards)"
   ]
  }
 ],
 "metadata": {
  "kernelspec": {
   "display_name": "vaex",
   "language": "python",
   "name": "python3"
  },
  "language_info": {
   "name": "python",
   "version": "3.8.16"
  }
 },
 "nbformat": 4,
 "nbformat_minor": 2
}

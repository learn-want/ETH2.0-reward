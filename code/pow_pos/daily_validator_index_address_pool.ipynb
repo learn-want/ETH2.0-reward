{
 "cells": [
  {
   "cell_type": "code",
   "execution_count": 2,
   "metadata": {},
   "outputs": [],
   "source": [
    "import pandas as pd\n",
    "from tqdm import tqdm\n",
    "# import vaex\n",
    "# df=vaex.from_csv('/srv/abacus-3/Ethereum_token_txs_data/uniswapv2/uni-v2-pairs_with_tokens_decimal.csv',convert=True, chunk_size=5_000_000)\n",
    "def read_large_csv(file_path, chunk_size=10000000):\n",
    "    accumulated_data = pd.DataFrame()\n",
    "    chunks = pd.read_csv(file_path, chunksize=chunk_size)\n",
    "    for chunk in tqdm(chunks):\n",
    "        accumulated_data = pd.concat([accumulated_data, chunk])\n",
    "    return accumulated_data"
   ]
  },
  {
   "cell_type": "code",
   "execution_count": 3,
   "metadata": {},
   "outputs": [
    {
     "name": "stderr",
     "output_type": "stream",
     "text": [
      "30it [03:08,  6.29s/it]\n"
     ]
    }
   ],
   "source": [
    "daily_validator_index_data=read_large_csv('/local/scratch/exported/Ethereum_token_txs_data_TY_23/rewards/eth2_reward_ether/daily_attestation_reward/total_daily_attestation_rewards_sum.csv')"
   ]
  },
  {
   "cell_type": "code",
   "execution_count": 9,
   "metadata": {},
   "outputs": [
    {
     "data": {
      "text/html": [
       "<div>\n",
       "<style scoped>\n",
       "    .dataframe tbody tr th:only-of-type {\n",
       "        vertical-align: middle;\n",
       "    }\n",
       "\n",
       "    .dataframe tbody tr th {\n",
       "        vertical-align: top;\n",
       "    }\n",
       "\n",
       "    .dataframe thead th {\n",
       "        text-align: right;\n",
       "    }\n",
       "</style>\n",
       "<table border=\"1\" class=\"dataframe\">\n",
       "  <thead>\n",
       "    <tr style=\"text-align: right;\">\n",
       "      <th></th>\n",
       "      <th>date</th>\n",
       "      <th>validator_index</th>\n",
       "      <th>total_reward</th>\n",
       "    </tr>\n",
       "  </thead>\n",
       "  <tbody>\n",
       "    <tr>\n",
       "      <th>0</th>\n",
       "      <td>2022-09-15</td>\n",
       "      <td>0</td>\n",
       "      <td>2332229.0</td>\n",
       "    </tr>\n",
       "    <tr>\n",
       "      <th>1</th>\n",
       "      <td>2022-09-15</td>\n",
       "      <td>1</td>\n",
       "      <td>2300439.0</td>\n",
       "    </tr>\n",
       "  </tbody>\n",
       "</table>\n",
       "</div>"
      ],
      "text/plain": [
       "         date  validator_index  total_reward\n",
       "0  2022-09-15                0     2332229.0\n",
       "1  2022-09-15                1     2300439.0"
      ]
     },
     "execution_count": 9,
     "metadata": {},
     "output_type": "execute_result"
    }
   ],
   "source": [
    "daily_validator_index_data.head(2)"
   ]
  },
  {
   "cell_type": "code",
   "execution_count": 5,
   "metadata": {},
   "outputs": [
    {
     "name": "stderr",
     "output_type": "stream",
     "text": [
      "/tmp/ipykernel_53532/3213145281.py:1: DtypeWarning: Columns (9) have mixed types. Specify dtype option on import or set low_memory=False.\n",
      "  label_data=pd.read_csv('/local/scratch/exported/Ethereum_token_txs_data_TY_23/rewards/mining_staking/staking/dune_depositor_entity_data/validator_index_deposit_address_entity.csv')\n"
     ]
    }
   ],
   "source": [
    "label_data=pd.read_csv('/local/scratch/exported/Ethereum_token_txs_data_TY_23/rewards/mining_staking/staking/dune_depositor_entity_data/validator_index_deposit_address_entity.csv')"
   ]
  },
  {
   "cell_type": "code",
   "execution_count": 6,
   "metadata": {},
   "outputs": [
    {
     "data": {
      "text/html": [
       "<div>\n",
       "<style scoped>\n",
       "    .dataframe tbody tr th:only-of-type {\n",
       "        vertical-align: middle;\n",
       "    }\n",
       "\n",
       "    .dataframe tbody tr th {\n",
       "        vertical-align: top;\n",
       "    }\n",
       "\n",
       "    .dataframe thead th {\n",
       "        text-align: right;\n",
       "    }\n",
       "</style>\n",
       "<table border=\"1\" class=\"dataframe\">\n",
       "  <thead>\n",
       "    <tr style=\"text-align: right;\">\n",
       "      <th></th>\n",
       "      <th>test</th>\n",
       "      <th>block_number</th>\n",
       "      <th>amount_staked</th>\n",
       "      <th>depositor_address</th>\n",
       "      <th>entity</th>\n",
       "      <th>entity_unique_name</th>\n",
       "      <th>entity_category</th>\n",
       "      <th>tx_hash</th>\n",
       "      <th>deposit_index</th>\n",
       "      <th>withdrawal_address</th>\n",
       "      <th>evt_index</th>\n",
       "    </tr>\n",
       "  </thead>\n",
       "  <tbody>\n",
       "    <tr>\n",
       "      <th>0</th>\n",
       "      <td>11185311_1.00000_0x798cf8fc6f212da30b10cac6e05...</td>\n",
       "      <td>11185311</td>\n",
       "      <td>1.0</td>\n",
       "      <td>0x798cf8fc6f212da30b10cac6e05b4bf275c34bff</td>\n",
       "      <td>NaN</td>\n",
       "      <td>NaN</td>\n",
       "      <td>NaN</td>\n",
       "      <td>0x7085c586686d666e8bb6e9477a0f0b09565b2060a11f...</td>\n",
       "      <td>0</td>\n",
       "      <td>NaN</td>\n",
       "      <td>131</td>\n",
       "    </tr>\n",
       "    <tr>\n",
       "      <th>1</th>\n",
       "      <td>11191448_1.00000_0xc34eb7e3f34e54646d7cd140bb7...</td>\n",
       "      <td>11191448</td>\n",
       "      <td>1.0</td>\n",
       "      <td>0xc34eb7e3f34e54646d7cd140bb7c20a466b3e852</td>\n",
       "      <td>NaN</td>\n",
       "      <td>NaN</td>\n",
       "      <td>NaN</td>\n",
       "      <td>0xa90ed27521c07e66d52db6ee47d729d1182299253037...</td>\n",
       "      <td>1</td>\n",
       "      <td>NaN</td>\n",
       "      <td>126</td>\n",
       "    </tr>\n",
       "  </tbody>\n",
       "</table>\n",
       "</div>"
      ],
      "text/plain": [
       "                                                test  block_number   \n",
       "0  11185311_1.00000_0x798cf8fc6f212da30b10cac6e05...      11185311  \\\n",
       "1  11191448_1.00000_0xc34eb7e3f34e54646d7cd140bb7...      11191448   \n",
       "\n",
       "   amount_staked                           depositor_address entity   \n",
       "0            1.0  0x798cf8fc6f212da30b10cac6e05b4bf275c34bff    NaN  \\\n",
       "1            1.0  0xc34eb7e3f34e54646d7cd140bb7c20a466b3e852    NaN   \n",
       "\n",
       "  entity_unique_name entity_category   \n",
       "0                NaN             NaN  \\\n",
       "1                NaN             NaN   \n",
       "\n",
       "                                             tx_hash  deposit_index   \n",
       "0  0x7085c586686d666e8bb6e9477a0f0b09565b2060a11f...              0  \\\n",
       "1  0xa90ed27521c07e66d52db6ee47d729d1182299253037...              1   \n",
       "\n",
       "  withdrawal_address  evt_index  \n",
       "0                NaN        131  \n",
       "1                NaN        126  "
      ]
     },
     "execution_count": 6,
     "metadata": {},
     "output_type": "execute_result"
    }
   ],
   "source": [
    "label_data.head(2)"
   ]
  },
  {
   "cell_type": "code",
   "execution_count": 8,
   "metadata": {},
   "outputs": [],
   "source": [
    "label_data.rename(columns={'deposit_index':'validator_index'},inplace=True)"
   ]
  },
  {
   "cell_type": "markdown",
   "metadata": {},
   "source": [
    "## merge index_address_pool"
   ]
  },
  {
   "cell_type": "code",
   "execution_count": 11,
   "metadata": {},
   "outputs": [],
   "source": [
    "label_data1=label_data[['validator_index','depositor_address','entity','entity_unique_name','entity_category']]"
   ]
  },
  {
   "cell_type": "code",
   "execution_count": 14,
   "metadata": {},
   "outputs": [],
   "source": [
    "daily_validator_index_data1=daily_validator_index_data.merge(label_data1, on='validator_index',how='left')"
   ]
  },
  {
   "cell_type": "code",
   "execution_count": 16,
   "metadata": {},
   "outputs": [
    {
     "data": {
      "text/plain": [
       "(299511488, 7)"
      ]
     },
     "execution_count": 16,
     "metadata": {},
     "output_type": "execute_result"
    }
   ],
   "source": [
    "daily_validator_index_data1.shape"
   ]
  },
  {
   "cell_type": "code",
   "execution_count": 25,
   "metadata": {},
   "outputs": [],
   "source": [
    "daily_validator_index_data1.to_csv('/local/scratch/exported/Ethereum_token_txs_data_TY_23/rewards/eth2_reward_ether/daily_attestation_reward/total_daily_attestation_rewards_sum_with_entity.csv',index=False)"
   ]
  },
  {
   "cell_type": "markdown",
   "metadata": {},
   "source": [
    "## cluster in the address level"
   ]
  },
  {
   "cell_type": "code",
   "execution_count": 19,
   "metadata": {},
   "outputs": [
    {
     "data": {
      "text/html": [
       "<div>\n",
       "<style scoped>\n",
       "    .dataframe tbody tr th:only-of-type {\n",
       "        vertical-align: middle;\n",
       "    }\n",
       "\n",
       "    .dataframe tbody tr th {\n",
       "        vertical-align: top;\n",
       "    }\n",
       "\n",
       "    .dataframe thead th {\n",
       "        text-align: right;\n",
       "    }\n",
       "</style>\n",
       "<table border=\"1\" class=\"dataframe\">\n",
       "  <thead>\n",
       "    <tr style=\"text-align: right;\">\n",
       "      <th></th>\n",
       "      <th>date</th>\n",
       "      <th>validator_index</th>\n",
       "      <th>total_reward</th>\n",
       "      <th>depositor_address</th>\n",
       "      <th>entity</th>\n",
       "      <th>entity_unique_name</th>\n",
       "      <th>entity_category</th>\n",
       "    </tr>\n",
       "  </thead>\n",
       "  <tbody>\n",
       "    <tr>\n",
       "      <th>0</th>\n",
       "      <td>2022-09-15</td>\n",
       "      <td>0</td>\n",
       "      <td>2332229.0</td>\n",
       "      <td>0x798cf8fc6f212da30b10cac6e05b4bf275c34bff</td>\n",
       "      <td>NaN</td>\n",
       "      <td>NaN</td>\n",
       "      <td>NaN</td>\n",
       "    </tr>\n",
       "    <tr>\n",
       "      <th>1</th>\n",
       "      <td>2022-09-15</td>\n",
       "      <td>1</td>\n",
       "      <td>2300439.0</td>\n",
       "      <td>0xc34eb7e3f34e54646d7cd140bb7c20a466b3e852</td>\n",
       "      <td>NaN</td>\n",
       "      <td>NaN</td>\n",
       "      <td>NaN</td>\n",
       "    </tr>\n",
       "  </tbody>\n",
       "</table>\n",
       "</div>"
      ],
      "text/plain": [
       "         date  validator_index  total_reward   \n",
       "0  2022-09-15                0     2332229.0  \\\n",
       "1  2022-09-15                1     2300439.0   \n",
       "\n",
       "                            depositor_address entity entity_unique_name   \n",
       "0  0x798cf8fc6f212da30b10cac6e05b4bf275c34bff    NaN                NaN  \\\n",
       "1  0xc34eb7e3f34e54646d7cd140bb7c20a466b3e852    NaN                NaN   \n",
       "\n",
       "  entity_category  \n",
       "0             NaN  \n",
       "1             NaN  "
      ]
     },
     "execution_count": 19,
     "metadata": {},
     "output_type": "execute_result"
    }
   ],
   "source": [
    "daily_validator_index_data1.head(2)"
   ]
  },
  {
   "cell_type": "code",
   "execution_count": 20,
   "metadata": {},
   "outputs": [
    {
     "data": {
      "text/plain": [
       "(255662959, 7)"
      ]
     },
     "execution_count": 20,
     "metadata": {},
     "output_type": "execute_result"
    }
   ],
   "source": [
    "#统计entity列不为空的行数\n",
    "daily_validator_index_data1[daily_validator_index_data1['entity'].notnull()].shape"
   ]
  },
  {
   "cell_type": "code",
   "execution_count": 21,
   "metadata": {},
   "outputs": [],
   "source": [
    "daily_validator_index_data2=daily_validator_index_data1.groupby(['depositor_address','date'])[['total_reward']].sum().reset_index()"
   ]
  },
  {
   "cell_type": "code",
   "execution_count": 22,
   "metadata": {},
   "outputs": [
    {
     "data": {
      "text/html": [
       "<div>\n",
       "<style scoped>\n",
       "    .dataframe tbody tr th:only-of-type {\n",
       "        vertical-align: middle;\n",
       "    }\n",
       "\n",
       "    .dataframe tbody tr th {\n",
       "        vertical-align: top;\n",
       "    }\n",
       "\n",
       "    .dataframe thead th {\n",
       "        text-align: right;\n",
       "    }\n",
       "</style>\n",
       "<table border=\"1\" class=\"dataframe\">\n",
       "  <thead>\n",
       "    <tr style=\"text-align: right;\">\n",
       "      <th></th>\n",
       "      <th>depositor_address</th>\n",
       "      <th>date</th>\n",
       "      <th>total_reward</th>\n",
       "    </tr>\n",
       "  </thead>\n",
       "  <tbody>\n",
       "    <tr>\n",
       "      <th>0</th>\n",
       "      <td>0x00000000006267dd559d14f5adef3f777ae7bb0e</td>\n",
       "      <td>2023-01-28</td>\n",
       "      <td>388087.0</td>\n",
       "    </tr>\n",
       "    <tr>\n",
       "      <th>1</th>\n",
       "      <td>0x00000000006267dd559d14f5adef3f777ae7bb0e</td>\n",
       "      <td>2023-01-29</td>\n",
       "      <td>3003823.0</td>\n",
       "    </tr>\n",
       "    <tr>\n",
       "      <th>2</th>\n",
       "      <td>0x00000000006267dd559d14f5adef3f777ae7bb0e</td>\n",
       "      <td>2023-01-30</td>\n",
       "      <td>3008072.0</td>\n",
       "    </tr>\n",
       "    <tr>\n",
       "      <th>3</th>\n",
       "      <td>0x00000000006267dd559d14f5adef3f777ae7bb0e</td>\n",
       "      <td>2023-01-31</td>\n",
       "      <td>4681225.0</td>\n",
       "    </tr>\n",
       "    <tr>\n",
       "      <th>4</th>\n",
       "      <td>0x00000000006267dd559d14f5adef3f777ae7bb0e</td>\n",
       "      <td>2023-02-01</td>\n",
       "      <td>5982929.0</td>\n",
       "    </tr>\n",
       "    <tr>\n",
       "      <th>...</th>\n",
       "      <td>...</td>\n",
       "      <td>...</td>\n",
       "      <td>...</td>\n",
       "    </tr>\n",
       "    <tr>\n",
       "      <th>49170560</th>\n",
       "      <td>0xfffffffff0cee49cff5550d64455d52e1e20824d</td>\n",
       "      <td>2023-12-28</td>\n",
       "      <td>2264815.0</td>\n",
       "    </tr>\n",
       "    <tr>\n",
       "      <th>49170561</th>\n",
       "      <td>0xfffffffff0cee49cff5550d64455d52e1e20824d</td>\n",
       "      <td>2023-12-29</td>\n",
       "      <td>2247858.0</td>\n",
       "    </tr>\n",
       "    <tr>\n",
       "      <th>49170562</th>\n",
       "      <td>0xfffffffff0cee49cff5550d64455d52e1e20824d</td>\n",
       "      <td>2023-12-30</td>\n",
       "      <td>2236460.0</td>\n",
       "    </tr>\n",
       "    <tr>\n",
       "      <th>49170563</th>\n",
       "      <td>0xfffffffff0cee49cff5550d64455d52e1e20824d</td>\n",
       "      <td>2023-12-31</td>\n",
       "      <td>2241276.0</td>\n",
       "    </tr>\n",
       "    <tr>\n",
       "      <th>49170564</th>\n",
       "      <td>0xfffffffff0cee49cff5550d64455d52e1e20824d</td>\n",
       "      <td>2024-01-01</td>\n",
       "      <td>1368546.0</td>\n",
       "    </tr>\n",
       "  </tbody>\n",
       "</table>\n",
       "<p>49170565 rows × 3 columns</p>\n",
       "</div>"
      ],
      "text/plain": [
       "                                   depositor_address        date  total_reward\n",
       "0         0x00000000006267dd559d14f5adef3f777ae7bb0e  2023-01-28      388087.0\n",
       "1         0x00000000006267dd559d14f5adef3f777ae7bb0e  2023-01-29     3003823.0\n",
       "2         0x00000000006267dd559d14f5adef3f777ae7bb0e  2023-01-30     3008072.0\n",
       "3         0x00000000006267dd559d14f5adef3f777ae7bb0e  2023-01-31     4681225.0\n",
       "4         0x00000000006267dd559d14f5adef3f777ae7bb0e  2023-02-01     5982929.0\n",
       "...                                              ...         ...           ...\n",
       "49170560  0xfffffffff0cee49cff5550d64455d52e1e20824d  2023-12-28     2264815.0\n",
       "49170561  0xfffffffff0cee49cff5550d64455d52e1e20824d  2023-12-29     2247858.0\n",
       "49170562  0xfffffffff0cee49cff5550d64455d52e1e20824d  2023-12-30     2236460.0\n",
       "49170563  0xfffffffff0cee49cff5550d64455d52e1e20824d  2023-12-31     2241276.0\n",
       "49170564  0xfffffffff0cee49cff5550d64455d52e1e20824d  2024-01-01     1368546.0\n",
       "\n",
       "[49170565 rows x 3 columns]"
      ]
     },
     "execution_count": 22,
     "metadata": {},
     "output_type": "execute_result"
    }
   ],
   "source": [
    "daily_validator_index_data2"
   ]
  },
  {
   "cell_type": "code",
   "execution_count": 26,
   "metadata": {},
   "outputs": [],
   "source": [
    "daily_validator_index_data2.to_csv('/local/scratch/exported/Ethereum_token_txs_data_TY_23/rewards/eth2_reward_ether/daily_attestation_reward/total_daily_attestation_rewards_sum__address_level.csv',index=False)"
   ]
  },
  {
   "cell_type": "markdown",
   "metadata": {},
   "source": [
    "## cluster in the staking pool level"
   ]
  },
  {
   "cell_type": "code",
   "execution_count": 23,
   "metadata": {},
   "outputs": [],
   "source": [
    "daily_validator_index_data3=daily_validator_index_data1.groupby(['entity','date'])[['total_reward']].sum().reset_index()"
   ]
  },
  {
   "cell_type": "code",
   "execution_count": 24,
   "metadata": {},
   "outputs": [
    {
     "data": {
      "text/html": [
       "<div>\n",
       "<style scoped>\n",
       "    .dataframe tbody tr th:only-of-type {\n",
       "        vertical-align: middle;\n",
       "    }\n",
       "\n",
       "    .dataframe tbody tr th {\n",
       "        vertical-align: top;\n",
       "    }\n",
       "\n",
       "    .dataframe thead th {\n",
       "        text-align: right;\n",
       "    }\n",
       "</style>\n",
       "<table border=\"1\" class=\"dataframe\">\n",
       "  <thead>\n",
       "    <tr style=\"text-align: right;\">\n",
       "      <th></th>\n",
       "      <th>entity</th>\n",
       "      <th>date</th>\n",
       "      <th>total_reward</th>\n",
       "    </tr>\n",
       "  </thead>\n",
       "  <tbody>\n",
       "    <tr>\n",
       "      <th>0</th>\n",
       "      <td>04221.eth</td>\n",
       "      <td>2022-12-02</td>\n",
       "      <td>2279176.0</td>\n",
       "    </tr>\n",
       "    <tr>\n",
       "      <th>1</th>\n",
       "      <td>04221.eth</td>\n",
       "      <td>2022-12-03</td>\n",
       "      <td>3056870.0</td>\n",
       "    </tr>\n",
       "    <tr>\n",
       "      <th>2</th>\n",
       "      <td>04221.eth</td>\n",
       "      <td>2022-12-04</td>\n",
       "      <td>3021322.0</td>\n",
       "    </tr>\n",
       "    <tr>\n",
       "      <th>3</th>\n",
       "      <td>04221.eth</td>\n",
       "      <td>2022-12-05</td>\n",
       "      <td>3058092.0</td>\n",
       "    </tr>\n",
       "    <tr>\n",
       "      <th>4</th>\n",
       "      <td>04221.eth</td>\n",
       "      <td>2022-12-06</td>\n",
       "      <td>3056658.0</td>\n",
       "    </tr>\n",
       "    <tr>\n",
       "      <th>...</th>\n",
       "      <td>...</td>\n",
       "      <td>...</td>\n",
       "      <td>...</td>\n",
       "    </tr>\n",
       "    <tr>\n",
       "      <th>589549</th>\n",
       "      <td>📤📤📤.eth</td>\n",
       "      <td>2023-12-28</td>\n",
       "      <td>11249686.0</td>\n",
       "    </tr>\n",
       "    <tr>\n",
       "      <th>589550</th>\n",
       "      <td>📤📤📤.eth</td>\n",
       "      <td>2023-12-29</td>\n",
       "      <td>11200908.0</td>\n",
       "    </tr>\n",
       "    <tr>\n",
       "      <th>589551</th>\n",
       "      <td>📤📤📤.eth</td>\n",
       "      <td>2023-12-30</td>\n",
       "      <td>11126152.0</td>\n",
       "    </tr>\n",
       "    <tr>\n",
       "      <th>589552</th>\n",
       "      <td>📤📤📤.eth</td>\n",
       "      <td>2023-12-31</td>\n",
       "      <td>11191297.0</td>\n",
       "    </tr>\n",
       "    <tr>\n",
       "      <th>589553</th>\n",
       "      <td>📤📤📤.eth</td>\n",
       "      <td>2024-01-01</td>\n",
       "      <td>6812520.0</td>\n",
       "    </tr>\n",
       "  </tbody>\n",
       "</table>\n",
       "<p>589554 rows × 3 columns</p>\n",
       "</div>"
      ],
      "text/plain": [
       "           entity        date  total_reward\n",
       "0       04221.eth  2022-12-02     2279176.0\n",
       "1       04221.eth  2022-12-03     3056870.0\n",
       "2       04221.eth  2022-12-04     3021322.0\n",
       "3       04221.eth  2022-12-05     3058092.0\n",
       "4       04221.eth  2022-12-06     3056658.0\n",
       "...           ...         ...           ...\n",
       "589549    📤📤📤.eth  2023-12-28    11249686.0\n",
       "589550    📤📤📤.eth  2023-12-29    11200908.0\n",
       "589551    📤📤📤.eth  2023-12-30    11126152.0\n",
       "589552    📤📤📤.eth  2023-12-31    11191297.0\n",
       "589553    📤📤📤.eth  2024-01-01     6812520.0\n",
       "\n",
       "[589554 rows x 3 columns]"
      ]
     },
     "execution_count": 24,
     "metadata": {},
     "output_type": "execute_result"
    }
   ],
   "source": [
    "daily_validator_index_data3"
   ]
  },
  {
   "cell_type": "code",
   "execution_count": 27,
   "metadata": {},
   "outputs": [],
   "source": [
    "daily_validator_index_data3.to_csv('/local/scratch/exported/Ethereum_token_txs_data_TY_23/rewards/eth2_reward_ether/daily_attestation_reward/total_daily_attestation_rewards_sum__stakingpool_level.csv',index=False)"
   ]
  }
 ],
 "metadata": {
  "kernelspec": {
   "display_name": "vaex",
   "language": "python",
   "name": "python3"
  },
  "language_info": {
   "codemirror_mode": {
    "name": "ipython",
    "version": 3
   },
   "file_extension": ".py",
   "mimetype": "text/x-python",
   "name": "python",
   "nbconvert_exporter": "python",
   "pygments_lexer": "ipython3",
   "version": "3.8.16"
  }
 },
 "nbformat": 4,
 "nbformat_minor": 2
}
